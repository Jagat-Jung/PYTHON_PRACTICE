{
 "cells": [
  {
   "cell_type": "markdown",
   "metadata": {},
   "source": [
    "1. Write a Python program to find the length of string."
   ]
  },
  {
   "cell_type": "code",
   "execution_count": null,
   "metadata": {},
   "outputs": [],
   "source": [
    "word=str(input(\"Enter the word to find the length\"))\n",
    "print(len(word))"
   ]
  },
  {
   "cell_type": "markdown",
   "metadata": {},
   "source": [
    "2. Wap to find the even/odd number"
   ]
  },
  {
   "cell_type": "code",
   "execution_count": null,
   "metadata": {},
   "outputs": [],
   "source": [
    "Number=int(input(\"Enter the number\"))\n",
    "\n",
    "if Number==0:\n",
    "    print(\"Number is nither odd nor even\")\n",
    "\n",
    "elif (Number%2)==0:\n",
    "    print(\"Number is Even\")\n",
    "\n",
    "else:\n",
    "    print(\"Number is odd\")\n",
    "    "
   ]
  },
  {
   "cell_type": "markdown",
   "metadata": {},
   "source": [
    " 3. Wap to find prime composite"
   ]
  },
  {
   "cell_type": "code",
   "execution_count": null,
   "metadata": {},
   "outputs": [],
   "source": [
    "Number=int(input(\"Enter the number to find if it is prime or composit\"))\n",
    "flag=0\n",
    "if Number== (0 or 1):\n",
    "    print(\"Number is neither prime nor composit\")  \n",
    "\n",
    "for i in range(2,int(Number/2)):\n",
    "    if(Number%i)==0:\n",
    "        flag=flag+1;\n",
    "\n",
    "if(flag==0):\n",
    "    print(\"The number is prime\")\n",
    "else:\n",
    "    print(\"The number is composit\")\n"
   ]
  },
  {
   "cell_type": "markdown",
   "metadata": {},
   "source": [
    "4. Write a code to find the number of time number repeated on any list"
   ]
  },
  {
   "cell_type": "code",
   "execution_count": null,
   "metadata": {},
   "outputs": [],
   "source": [
    "Numbers=input(\"Enter the numbers using spaces in between\")\n",
    "NumberList=Numbers.split(' ')\n",
    "NumberSet=set(NumberList)\n",
    "for i in NumberSet:\n",
    "    print(\"The numbers of \",i,\" in the list is\" ,NumberList.count(i))\n"
   ]
  },
  {
   "cell_type": "markdown",
   "metadata": {},
   "source": [
    "5. Wap to find the fibonacci number using while loop\n",
    "\n"
   ]
  },
  {
   "cell_type": "code",
   "execution_count": null,
   "metadata": {},
   "outputs": [],
   "source": [
    "Number=int(input(\"enter nth number to print upto\"))\n",
    "a=0\n",
    "b=1\n",
    "c=1\n",
    "while Number>0:\n",
    "    print(a)\n",
    "    a=b\n",
    "    b=c\n",
    "    c=a+b\n",
    "    Number=Number-1\n",
    "\n",
    "\n",
    "    \n"
   ]
  },
  {
   "cell_type": "markdown",
   "metadata": {},
   "source": [
    "6. Wap to find factorial using loops\n"
   ]
  },
  {
   "cell_type": "code",
   "execution_count": null,
   "metadata": {},
   "outputs": [],
   "source": [
    "Number=int(input(\"Enter the number to find factorial\"))\n",
    "fact=1\n",
    "if Number==0:\n",
    "    print(\"Factorial of the number is 1\")\n",
    "\n",
    "elif Number<0:\n",
    "    print(\"We cannot find factorial of negative value\")\n",
    "    \n",
    "for i in range(1,Number+1):\n",
    "    fact=fact*i\n",
    "print(\"factorial of the number is\", fact)\n",
    "\n",
    "\n",
    "\n"
   ]
  },
  {
   "cell_type": "markdown",
   "metadata": {},
   "source": [
    "7. Write a program to print odd numbers from list"
   ]
  },
  {
   "cell_type": "code",
   "execution_count": 7,
   "metadata": {},
   "outputs": [
    {
     "name": "stdout",
     "output_type": "stream",
     "text": [
      "Enter the numbers using spaces in between1 2 3 4 5\n",
      "Odd= [1, 3, 5]\n",
      "Even= [2, 4]\n"
     ]
    }
   ],
   "source": [
    "Numbers=input(\"Enter the numbers using spaces in between\")\n",
    "NumberList=Numbers.split(' ')\n",
    "odd=[]\n",
    "even=[]\n",
    "for j in NumberList:\n",
    "    i=int(j)    \n",
    "    if i%2 is not 0:\n",
    "        odd=odd+[i]\n",
    "    else:\n",
    "        even=even+[i]\n",
    "print(\"Odd=\",odd)\n",
    "print(\"Even=\",even)"
   ]
  },
  {
   "cell_type": "markdown",
   "metadata": {},
   "source": [
    "8. Write a program to convert given matrix to transpose of it"
   ]
  },
  {
   "cell_type": "code",
   "execution_count": null,
   "metadata": {},
   "outputs": [],
   "source": [
    "matrix = [\n",
    "                [1, 2, 3, 4],\n",
    "                [5, 6, 7, 8],\n",
    "                [9, 10, 11, 12]\n",
    "            ]\n",
    "\n",
    "inverse_matrix=[ ] \n",
    "matrix_liv=[]\n",
    "for i in range(len(matrix[0])):\n",
    "    for j in range(len(matrix)):\n",
    "        temp=[matrix[j][i]]\n",
    "        inverse_matrix=inverse_matrix+temp\n",
    "    matrix_liv=matrix_liv+[inverse_matrix]\n",
    "    inverse_matrix=[]\n",
    "    \n",
    "    \n",
    "print(matrix_liv)"
   ]
  },
  {
   "cell_type": "markdown",
   "metadata": {},
   "source": [
    "9. Find a list of fibonacci numbers from 0 to 100"
   ]
  },
  {
   "cell_type": "code",
   "execution_count": 2,
   "metadata": {},
   "outputs": [
    {
     "name": "stdout",
     "output_type": "stream",
     "text": [
      "[0, 1, 1, 2, 3, 5, 8, 13, 21, 34, 55, 89]\n"
     ]
    }
   ],
   "source": [
    "a=0\n",
    "b=1\n",
    "c=1\n",
    "lst=[ ]\n",
    "while a<=100:\n",
    "    lst=lst+[a]\n",
    "    a=b\n",
    "    b=c\n",
    "    c=a+b\n",
    "print(lst)\n",
    "\n",
    "\n",
    "\n",
    "\n",
    "    \n"
   ]
  },
  {
   "cell_type": "markdown",
   "metadata": {},
   "source": [
    "10. Find a list of even and odd numbers from 0 to 200"
   ]
  },
  {
   "cell_type": "code",
   "execution_count": 3,
   "metadata": {},
   "outputs": [
    {
     "name": "stdout",
     "output_type": "stream",
     "text": [
      "Odd= [1, 3, 5, 7, 9, 11, 13, 15, 17, 19, 21, 23, 25, 27, 29, 31, 33, 35, 37, 39, 41, 43, 45, 47, 49, 51, 53, 55, 57, 59, 61, 63, 65, 67, 69, 71, 73, 75, 77, 79, 81, 83, 85, 87, 89, 91, 93, 95, 97, 99, 101, 103, 105, 107, 109, 111, 113, 115, 117, 119, 121, 123, 125, 127, 129, 131, 133, 135, 137, 139, 141, 143, 145, 147, 149, 151, 153, 155, 157, 159, 161, 163, 165, 167, 169, 171, 173, 175, 177, 179, 181, 183, 185, 187, 189, 191, 193, 195, 197, 199]\n",
      "Even= [2, 4, 6, 8, 10, 12, 14, 16, 18, 20, 22, 24, 26, 28, 30, 32, 34, 36, 38, 40, 42, 44, 46, 48, 50, 52, 54, 56, 58, 60, 62, 64, 66, 68, 70, 72, 74, 76, 78, 80, 82, 84, 86, 88, 90, 92, 94, 96, 98, 100, 102, 104, 106, 108, 110, 112, 114, 116, 118, 120, 122, 124, 126, 128, 130, 132, 134, 136, 138, 140, 142, 144, 146, 148, 150, 152, 154, 156, 158, 160, 162, 164, 166, 168, 170, 172, 174, 176, 178, 180, 182, 184, 186, 188, 190, 192, 194, 196, 198, 200]\n"
     ]
    }
   ],
   "source": [
    "odd=[]\n",
    "even=[]\n",
    "for i in range(1,201):\n",
    "    if i%2 is not 0:\n",
    "        odd=odd+[i]\n",
    "    else:\n",
    "        even=even+[i]\n",
    "print(\"Odd=\",odd)\n",
    "print(\"Even=\",even)"
   ]
  },
  {
   "cell_type": "markdown",
   "metadata": {},
   "source": [
    "11.Find if your birthday is on PI(22/7)"
   ]
  },
  {
   "cell_type": "code",
   "execution_count": null,
   "metadata": {},
   "outputs": [],
   "source": [
    "Number=str(input(\"Enter your birthdate in yyyy/mm/dd form\"))\n",
    "Number=Number.replace('/','')\n",
    "lst=str(22/7)\n",
    "lst=lst.replace('.','')\n",
    "print(lst)\n",
    "if (lst.find(Number))==0:    \n",
    "    print(\"There is birthdate in pi\")\n",
    "\n",
    "else:\n",
    "    print(\"There is no birthday in pi\")"
   ]
  },
  {
   "cell_type": "markdown",
   "metadata": {},
   "source": [
    "12. Write a Python Program to Check whether String is Palindrome or not ?"
   ]
  },
  {
   "cell_type": "code",
   "execution_count": null,
   "metadata": {},
   "outputs": [],
   "source": [
    "Number=str(input(\"Enter the number\"))\n",
    "\n",
    "Reversed_Number=Number[::-1]\n",
    "\n",
    "if Number==Reversed_Number:\n",
    "    print(\"It is palindrome\")\n",
    "\n",
    "else:\n",
    "    print(\"It is not Palindrome\")"
   ]
  },
  {
   "cell_type": "markdown",
   "metadata": {},
   "source": [
    "13. Write a Python Program to Sort Words in Alphabetic Order?"
   ]
  },
  {
   "cell_type": "code",
   "execution_count": null,
   "metadata": {},
   "outputs": [],
   "source": [
    "NumberOfWords=int(input(\"Enter the number of words to sort\"))\n",
    "NameList=[]\n",
    "for i in range(NumberOfWords):\n",
    "    word=str(input(\"Enter the word\"))\n",
    "    NameList=NameList+[word]\n",
    "NameList.sort()\n",
    "print(NameList)"
   ]
  },
  {
   "cell_type": "markdown",
   "metadata": {},
   "source": [
    "14. Write a python program to make a simple calculator that can add, subtract, multiply and division\n"
   ]
  },
  {
   "cell_type": "code",
   "execution_count": null,
   "metadata": {},
   "outputs": [],
   "source": [
    "def addition(a,b):\n",
    "    return (a+b)\n",
    "\n",
    "def subraction(a,b):\n",
    "    return(a-b)\n",
    "\n",
    "def multiply(a,b):\n",
    "    return(a*b)\n",
    "\n",
    "def divide(a,b):\n",
    "    return(a/b)\n",
    "\n",
    "print(\"Press \\n1.Addiction \\n2.Subtraction \\n3.Multiply \\n4.Divide \\n5.exit\")\n",
    "\n",
    "choice=int(input())\n",
    "\n",
    "if choice==5:\n",
    "        SystemExit()\n",
    "\n",
    "\n",
    "elif choice<1 or choice>5:\n",
    "    print(\"Wrong input f choice\")\n",
    "\n",
    "else:\n",
    "    first_variable=int(input(\"Enter the first variable\"))\n",
    "    second_variable=int(input(\"Enter the second variable\"))\n",
    "\n",
    "    if choice==1:\n",
    "        print(addition(first_variable,second_variable))\n",
    "\n",
    "    elif choice==2:\n",
    "        print(subraction(first_variable,second_variable))\n",
    "\n",
    "    elif choice==3:\n",
    "        print(multiply(first_variable,second_variable))\n",
    "\n",
    "    elif choice==4:\n",
    "        print(divide(first_variable,second_variable))\n"
   ]
  },
  {
   "cell_type": "markdown",
   "metadata": {},
   "source": [
    "15. Write a python program to print factorial of a number using recurion"
   ]
  },
  {
   "cell_type": "code",
   "execution_count": null,
   "metadata": {},
   "outputs": [],
   "source": [
    "def recursion(num):\n",
    "    if(num==0 or num==1):\n",
    "        return 1\n",
    "\n",
    "    else:\n",
    "        return num*recursion(num-1)\n",
    "\n",
    "number=int(input(\"Enter the number to find its recursion\"))\n",
    "\n",
    "print(\"the factorial is \",recursion(number))\n",
    "    "
   ]
  },
  {
   "cell_type": "markdown",
   "metadata": {},
   "source": [
    "16. Write a python program to display the fibonacci sequence up to n-th term using recursive function"
   ]
  },
  {
   "cell_type": "code",
   "execution_count": null,
   "metadata": {},
   "outputs": [],
   "source": [
    "def fibo(num):\n",
    "   if num <= 1:\n",
    "       return num\n",
    "   else:\n",
    "       return(fibo(num-1) + fibo(num-2))\n",
    "\n",
    "number=int(input(\"Enter the number to find the recursion\"))\n",
    "\n",
    "if(number<0):\n",
    "    print(\"Number is negative and negative number doesnot have fibonacci series\")\n",
    "\n",
    "else:\n",
    "    print(\"The fibo series are\")\n",
    "    print(list(map(fibo,range(1,number+1))))"
   ]
  },
  {
   "cell_type": "markdown",
   "metadata": {},
   "source": [
    "17. Write a progrma to calculate even number from list using Lambda function\n"
   ]
  },
  {
   "cell_type": "code",
   "execution_count": null,
   "metadata": {},
   "outputs": [],
   "source": [
    "number=int(input(\"Enter the number of items in list\"))\n",
    "lst=[]\n",
    "while number>0:\n",
    "    num=int(input(\"Enter the number\"))\n",
    "    lst=lst+[num]\n",
    "    number=number-1\n",
    "\n",
    "print(list(filter(lambda x:x%2==0,lst)))\n"
   ]
  },
  {
   "cell_type": "markdown",
   "metadata": {},
   "source": [
    "18. Wap to create a python function which can find HCF among numbers."
   ]
  },
  {
   "cell_type": "code",
   "execution_count": null,
   "metadata": {},
   "outputs": [],
   "source": [
    "def hcf(x, y):\n",
    "    if x > y:\n",
    "        smaller = y\n",
    "    else:\n",
    "        smaller = x\n",
    "\n",
    "    for i in range(1, smaller+1):\n",
    "\n",
    "        if((x % i == 0) and (y % i == 0)):\n",
    "            hcf = i \n",
    "            \n",
    "    return hcf\n",
    "\n",
    "num1 = int(input(\"Enter the first number\"))\n",
    "num2 = int(input(\"Enter the second number\"))\n",
    "\n",
    "print(\"The H.C.F. is\", hcf(num1, num2))"
   ]
  },
  {
   "cell_type": "markdown",
   "metadata": {},
   "source": [
    "19. Wap to create a text file which includes a multiplication table of user given number."
   ]
  },
  {
   "cell_type": "code",
   "execution_count": null,
   "metadata": {},
   "outputs": [],
   "source": [
    "number=int(input(\"Enter the number to print its table\"))\n",
    "\n",
    "with open(\"E:\\\\challenges\\\\python\\\\MulTable.txt\",'w') as f:\n",
    "    f.write(\"the multiplication table of \"+str(number)+\" is:\")\n",
    "\n",
    "with open(\"E:\\\\challenges\\\\python\\\\MulTable.txt\",'a') as f:\n",
    "    for i in range(1,11):\n",
    "        f.write(\"\\n\"+str(number)+\"X\"+str(i)+\"=\"+str(number*i))\n",
    "\n",
    "with open(\"E:\\\\challenges\\\\python\\\\MulTable.txt\") as f:\n",
    "    print(f.read())"
   ]
  },
  {
   "cell_type": "markdown",
   "metadata": {},
   "source": [
    "20. Create a json file which will store a student's information on below format:\n",
    "(Hint:\n",
    "use a Student class\n",
    "use a method to set name, age, etc attributes and use a write method to write a json file.\n",
    "use a show method to show all students informations.\n",
    ")\n",
    "  {roll_number: {name: Hari, age: 17, city: Pokhara, grade: 10, subjects: [Nepali, English, Social]}}"
   ]
  },
  {
   "cell_type": "code",
   "execution_count": null,
   "metadata": {},
   "outputs": [],
   "source": [
    "import json as js\n",
    "class StudentRecord:\n",
    "    \n",
    "    def __init__(self,name=\"\",age=0,city=\"\",grade=0,subjects=[]):\n",
    "        self._name=name\n",
    "        self._age=age\n",
    "        self._city=city\n",
    "        self._grade=grade\n",
    "        self._subjects=subjects\n",
    "        \n",
    "    \n",
    "    def setStudent(self, name, age, city, grade, subjects):\n",
    "        self._name=name\n",
    "        self._age=age\n",
    "        self._city=city\n",
    "        self._grade=grade\n",
    "        self._subjects=subjects\n",
    "    \n",
    "    def WriteStudent(self):\n",
    "        StdDic={\"name\":self._name,\"age\":self._age ,\"city\": self._city, \"grade\": self._grade, \"subjects\":self._subjects}\n",
    "        json1 = js.dumps(StdDic)\n",
    "        with open(\"E:\\challenges\\python\\json1.json\", \"w\") as fp:\n",
    "            js.dump(json1, fp)\n",
    "    \n",
    "    def ReadStudent(self):\n",
    "        with open(\"E:\\challenges\\python\\json1.json\",\"r\") as fx:\n",
    "            json1=js.load(fx)\n",
    "            print(js.loads(json1))\n",
    "            \n",
    "std=StudentRecord()\n",
    "std.setStudent(\"jagat\",56,\"pokhara\",10,[10,20,30])\n",
    "std.WriteStudent()\n",
    "std.ReadStudent()\n"
   ]
  },
  {
   "cell_type": "code",
   "execution_count": null,
   "metadata": {},
   "outputs": [],
   "source": []
  },
  {
   "cell_type": "code",
   "execution_count": null,
   "metadata": {},
   "outputs": [],
   "source": []
  },
  {
   "cell_type": "code",
   "execution_count": null,
   "metadata": {},
   "outputs": [],
   "source": []
  }
 ],
 "metadata": {
  "kernelspec": {
   "display_name": "Python 3",
   "language": "python",
   "name": "python3"
  },
  "language_info": {
   "codemirror_mode": {
    "name": "ipython",
    "version": 3
   },
   "file_extension": ".py",
   "mimetype": "text/x-python",
   "name": "python",
   "nbconvert_exporter": "python",
   "pygments_lexer": "ipython3",
   "version": "3.7.6"
  }
 },
 "nbformat": 4,
 "nbformat_minor": 4
}
