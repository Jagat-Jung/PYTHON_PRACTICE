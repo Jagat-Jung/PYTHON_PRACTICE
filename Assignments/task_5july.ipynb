{
 "cells": [
  {
   "cell_type": "code",
   "execution_count": null,
   "metadata": {},
   "outputs": [],
   "source": [
    "import json \n",
    "class StudentRecord:\n",
    "    data = {}\n",
    "    data['student']=[]  \n",
    "    def __init__(self,name=\"\",math=0,health=0,java=0,science=0):\n",
    "        self.data['student'].append({\n",
    "                'name':name,\n",
    "                'math':math,\n",
    "                'health':health,\n",
    "                'java':java,\n",
    "                'science':science          \n",
    "                })  \n",
    "    def writeData(self):     \n",
    "        with open('data.json', 'w') as outfile:\n",
    "            json.dump(self.data, outfile)\n",
    "            \n",
    "    def printData(self):\n",
    "        with open('data.json','r') as json_file:\n",
    "            self.data = json.load(json_file)\n",
    "            for p in data['student']:\n",
    "                print('Name: ', p['name'])\n",
    "                print(\"The mark of the student\")\n",
    "                print('Maths: ' , p['math'])\n",
    "                print('Science: ' , p['science'])\n",
    "                print('Health: ' , p['health'])\n",
    "                print('Java: ' , p['java'])\n",
    "                print('')        "
   ]
  },
  {
   "cell_type": "code",
   "execution_count": null,
   "metadata": {},
   "outputs": [],
   "source": [
    "name=str(input(\"Enter the Name of the student\"))\n",
    "math=int(input(\"Enter the marks obtain in maths\"))\n",
    "science=int(input(\"Enter the marks obtain in science\"))\n",
    "health=int(input(\"Enter the marks obtain in health\"))\n",
    "java=int(input(\"Enter the marks obtain in java\"))\n",
    "student=StudentRecord(name,math,health,java,science)\n",
    "student.writeData()\n",
    "student.printData()"
   ]
  },
  {
   "cell_type": "markdown",
   "metadata": {},
   "source": [
    "#To find mean median and mode"
   ]
  },
  {
   "cell_type": "code",
   "execution_count": null,
   "metadata": {},
   "outputs": [],
   "source": [
    "import random,math\n",
    "class Statics:\n",
    "    def mean(number=[]):\n",
    "        sum=0\n",
    "        for i in number:\n",
    "            sum=sum+int(i)\n",
    "        return sum/(len(number))\n",
    "\n",
    "    def median(number=[]):\n",
    "        number.sort()\n",
    "        return set([number[int(math.floor(((len(number))+1)/2))-1], number[int(math.ceil(((len(number))+1)/2))-1]])\n",
    "\n",
    "    def mode(number=[]):\n",
    "        number_set=set(number)\n",
    "        temp=0\n",
    "        temp_index=0\n",
    "        modelist=[]\n",
    "        for i in number_set:\n",
    "            number_index=number.index(i)\n",
    "            number_count=number.count(i)\n",
    "\n",
    "            if(number_count)>=temp:\n",
    "                temp=number_count\n",
    "                temp_index=number_index   \n",
    "                if(number_count)==temp:\n",
    "                        modelist=modelist+[number[number_index]] \n",
    "        return modelist\n",
    "    def random_number():\n",
    "        a=100\n",
    "        number=[]\n",
    "        while a>0:\n",
    "            number=number+[random.randint(1,100)]\n",
    "            a=a-1\n",
    "        return number\n",
    "\n",
    "    number=random_number()\n",
    "    print(number)\n",
    "    print(\"The mean of the numbers\",mean(number))\n",
    "    print(\"The medain of the numbers\",median(number))\n",
    "    print(\"The mode of the numbers\",mode(number))"
   ]
  },
  {
   "cell_type": "code",
   "execution_count": null,
   "metadata": {},
   "outputs": [],
   "source": []
  }
 ],
 "metadata": {
  "kernelspec": {
   "display_name": "Python 3",
   "language": "python",
   "name": "python3"
  },
  "language_info": {
   "codemirror_mode": {
    "name": "ipython",
    "version": 3
   },
   "file_extension": ".py",
   "mimetype": "text/x-python",
   "name": "python",
   "nbconvert_exporter": "python",
   "pygments_lexer": "ipython3",
   "version": "3.7.6"
  }
 },
 "nbformat": 4,
 "nbformat_minor": 4
}